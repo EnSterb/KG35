{
 "cells": [
  {
   "cell_type": "code",
   "execution_count": 1,
   "id": "7a35495d-6ee5-4ad6-ad6b-b08b233d3f5b",
   "metadata": {},
   "outputs": [],
   "source": [
    "import numpy as np\n",
    "import sympy as sp\n",
    "\n",
    "import matplotlib.pyplot as plt\n",
    "from ipywidgets import interact, FloatSlider, fixed\n",
    "from matplotlib.patches import Polygon\n",
    "from shapely.geometry import LineString\n",
    "from shapely.geometry import Polygon as Poly\n",
    "\n",
    "import math"
   ]
  },
  {
   "cell_type": "code",
   "execution_count": null,
   "id": "4cfb55c4-1059-4bf1-b7d7-923f5c78c886",
   "metadata": {},
   "outputs": [],
   "source": []
  },
  {
   "cell_type": "code",
   "execution_count": 2,
   "id": "bcfae3ff-7935-4885-86ad-8f128be4a5f1",
   "metadata": {},
   "outputs": [
    {
     "data": {
      "image/png": "[encoded data removed]",
      "text/plain": [
       "<Figure size 640x480 with 1 Axes>"
      ]
     },
     "metadata": {},
     "output_type": "display_data"
    }
   ],
   "source": [
    "vertices = np.array([(1,1), (2, 3), (3, 1), (2.5, 0.5)])\n",
    "poly = Polygon(vertices, closed=True, edgecolor='magenta', facecolor='cyan', alpha=1)\n",
    "ax = plt.subplot()\n",
    "ax.add_patch(poly)\n",
    "\n",
    "ax.set_xlim(0, 6)\n",
    "ax.set_ylim(0, 5)\n",
    "\n",
    "plt.show()"
   ]
  },
  {
   "cell_type": "code",
   "execution_count": null,
   "id": "5f7b8ea8-704a-49d2-97af-9bc0689a9a9d",
   "metadata": {},
   "outputs": [],
   "source": []
  },
  {
   "cell_type": "markdown",
   "id": "45f740f1-4d27-4720-8396-304d51fa80c3",
   "metadata": {},
   "source": [
    "#### Формула Шонке для вычисления площади простого полигона\n",
    "\n",
    "Пусть у нас есть простой многоугольник с вершинами $ (x_1, y_1), (x_2, y_2), \\ldots, (x_n, y_n) $, которые перечислены в порядке обхода (по часовой стрелке или против часовой стрелки). Площадь этого многоугольника \\(A\\) вычисляется по формуле:\n",
    "\n",
    "$$\n",
    "A = \\frac{1}{2} \\left| \\sum_{i=1}^{n} (x_i y_{i+1} - y_i x_{i+1}) \\right|\n",
    "$$\n",
    "\n",
    "где $(x_{n+1}, y_{n+1}) = (x_1, y_1)$ (т.е. последняя вершина замыкается первой)."
   ]
  },
  {
   "cell_type": "code",
   "execution_count": null,
   "id": "a21ed4ce-2343-4a72-b5a8-ed7aaa0f0dca",
   "metadata": {},
   "outputs": [],
   "source": []
  },
  {
   "cell_type": "code",
   "execution_count": 3,
   "id": "55e8ce5b-797f-4fbd-b8d7-297f5965650f",
   "metadata": {},
   "outputs": [],
   "source": [
    "class MyPoly:\n",
    "    def __init__(self, points):\n",
    "        self.points_ = np.array(points)\n",
    "\n",
    "    @property\n",
    "    def points(self):\n",
    "        \"\"\"\n",
    "        return: \n",
    "            точки полигона\n",
    "        \"\"\"\n",
    "        return self.points_\n",
    "\n",
    "    @property\n",
    "    def perimeter(self):\n",
    "        \"\"\"\n",
    "        return: \n",
    "            периметр полигона\n",
    "        \"\"\"\n",
    "        closed_points = np.vstack([self.points_, self.points_[0]]) # Добавляем первую точку в конец для замыкания полигона\n",
    "        diffs = np.diff(closed_points, axis=0) # Вычисляем евклидово расстояние между соседними точками\n",
    "        lengths = np.sqrt(np.sum(np.power(diffs, 2), axis=1)) # Вычисляем длины сторон как длины векторов\n",
    "        return np.sum(lengths)\n",
    "\n",
    "    @property\n",
    "    def area(self):\n",
    "        \"\"\"\n",
    "        return: \n",
    "            площадь полигона\n",
    "        \"\"\"\n",
    "        x = self.points_[:, 0]\n",
    "        y = self.points_[:, 1]\n",
    "        result = 0.5 * (np.dot(x, np.roll(y, 1)) - np.dot(y, np.roll(x, 1)))\n",
    "        return result\n",
    "\n",
    "    def get_orientation(self):\n",
    "        \"\"\"\n",
    "        return:\n",
    "            1: против часовой\n",
    "            -1: по часовой\n",
    "            None: что-то другое (Точки коллинеарны или совпадают)\n",
    "        \"\"\"\n",
    "        area = self.area\n",
    "        if area > 0: # \n",
    "            return 1\n",
    "        elif area < 0: # по часовой\n",
    "            return -1\n",
    "        else:\n",
    "            return None\n",
    "\n",
    "    def is_convex(self):\n",
    "        \"\"\"\n",
    "        Опрпеделяет вогнутость полигона\n",
    "        \n",
    "        return:\n",
    "            True: выпуклый\n",
    "            False: вогнутый\n",
    "        \"\"\"\n",
    "        n = len(self.points_)\n",
    "        if n < 3:  # Полигоны с менее чем 3 вершинами не являются выпуклыми\n",
    "            return False\n",
    "        direction = None\n",
    "        for i in range(n):\n",
    "            p1 = self.points_[i]\n",
    "            p2 = self.points_[(i + 1) % n]\n",
    "            side_vector = p2 - p1\n",
    "            normal_vector = np.array([-side_vector[1], side_vector[0]])\n",
    "            for j in range(n):\n",
    "                if j == i or j == (i + 1) % n:\n",
    "                    continue\n",
    "                point_vector = self.points_[j] - p1\n",
    "                dot_product = np.dot(normal_vector, point_vector)\n",
    "                if direction is None:\n",
    "                    direction = np.sign(dot_product)\n",
    "                elif direction != np.sign(dot_product) and dot_product != 0: \n",
    "                    return False\n",
    "        return True\n",
    "\n",
    "    def is_self_intersecting(self):\n",
    "        \"\"\"\n",
    "        Проверяет самопересечение полигона.\n",
    "        return: \n",
    "            True, если полигон самопересекается\n",
    "            False, если нет\n",
    "        \"\"\"\n",
    "        n = len(self.points_)\n",
    "        # Проходим по всем ребрам полигона\n",
    "        for i in range(n):\n",
    "            seg1_start = self.points_[i]\n",
    "            seg1_end = self.points_[(i + 1) % n]  # Зацикливание для последнего сегмента\n",
    "            seg1 = LineString([seg1_start, seg1_end])\n",
    "            \n",
    "            # Проверяем пересечения только с сегментами, которые не смежны\n",
    "            for j in range(i + 2, n + (i > 0)):  # Пропускаем соседние сегменты\n",
    "                if (j + 1) % n == i:  # Проверка, чтобы сегменты не были смежными\n",
    "                    continue\n",
    "                seg2_start = self.points_[j % n]\n",
    "                seg2_end = self.points_[(j + 1) % n]\n",
    "                seg2 = LineString([seg2_start, seg2_end])\n",
    "\n",
    "                # Проверяем пересечение сегментов\n",
    "                if seg1.intersects(seg2):\n",
    "                    return True\n",
    "        return False\n",
    "\n",
    "    def intersects_line(self, line_points):\n",
    "        \"\"\"\n",
    "            Проверяет пересечение прямой и полигона.\n",
    "\n",
    "            Args:\n",
    "                line_points: numpy.ndarray с координатами двух точек прямой.\n",
    "\n",
    "            Returns:\n",
    "                bool: True, если есть пересечение, иначе False.\n",
    "        \"\"\"\n",
    "\n",
    "        line = LineString(np.array(line_points))\n",
    "        poly = Poly(self.points_)\n",
    "        return line.intersects(poly)\n",
    "    \n",
    "    @property\n",
    "    def plot(self):\n",
    "        \"\"\"\n",
    "        return: \n",
    "            отображение полигона\n",
    "        \"\"\"\n",
    "        poly_ = Polygon(self.points_, closed=True, edgecolor='magenta', facecolor='cyan', alpha=1)\n",
    "        plt.clf()\n",
    "        ax = plt.subplot()\n",
    "        ax.add_patch(poly_)\n",
    "        x_min, y_min = np.min(self.points_[:,0]),np.min(self.points_[:,1])\n",
    "        x_max, y_max = np.max(self.points_[:,0]),np.max(self.points_[:,1])\n",
    "        ax.set_xlim(xmin=x_min-1, xmax=x_max+1)\n",
    "        ax.set_ylim(ymin=y_min-1, ymax=y_max+1)\n",
    "        return ax\n",
    "    \n",
    "    def __repr__(self):\n",
    "        \"\"\"\n",
    "        return: \n",
    "            строковое представление\n",
    "        \"\"\"\n",
    "        return f'Polygon wits points {tuple(self.points_)}'"
   ]
  },
  {
   "cell_type": "code",
   "execution_count": 4,
   "id": "557cd981-f417-4478-a1d8-192733e1edcd",
   "metadata": {},
   "outputs": [],
   "source": [
    "a = MyPoly([(1,1), (2, 3), (3, 1), (2.5, 0.5)])"
   ]
  },
  {
   "cell_type": "code",
   "execution_count": 5,
   "id": "54f9dbbf-9b7f-4f7a-81bf-d699699866c6",
   "metadata": {},
   "outputs": [
    {
     "data": {
      "text/plain": [
       "Polygon wits points (array([1., 1.]), array([2., 3.]), array([3., 1.]), array([2.5, 0.5]))"
      ]
     },
     "execution_count": 5,
     "metadata": {},
     "output_type": "execute_result"
    }
   ],
   "source": [
    "a"
   ]
  },
  {
   "cell_type": "code",
   "execution_count": 6,
   "id": "2ce1b7e4-60f3-49a1-9cf8-7d6f28f73a42",
   "metadata": {},
   "outputs": [
    {
     "data": {
      "text/plain": [
       "<Axes: >"
      ]
     },
     "execution_count": 6,
     "metadata": {},
     "output_type": "execute_result"
    },
    {
     "data": {
      "image/png": "[encoded data removed]",
      "text/plain": [
       "<Figure size 640x480 with 1 Axes>"
      ]
     },
     "metadata": {},
     "output_type": "display_data"
    }
   ],
   "source": [
    "a.plot"
   ]
  },
  {
   "cell_type": "markdown",
   "id": "c355be41-928e-4588-a1bd-10ba050590cd",
   "metadata": {},
   "source": [
    "# 1"
   ]
  },
  {
   "cell_type": "markdown",
   "id": "07e45b9f-4358-43d4-9aa7-052699c2917c",
   "metadata": {},
   "source": [
    "### 1.1\n",
    "\n",
    "Напишите функцию, вычисляющую периметр произвольного полигона."
   ]
  },
  {
   "cell_type": "code",
   "execution_count": 7,
   "id": "9f76b6f5-7463-4ce6-8d5e-a6511b3b016c",
   "metadata": {},
   "outputs": [
    {
     "data": {
      "text/plain": [
       "6.7603815662703175"
      ]
     },
     "execution_count": 7,
     "metadata": {},
     "output_type": "execute_result"
    }
   ],
   "source": [
    "a.perimeter"
   ]
  },
  {
   "cell_type": "code",
   "execution_count": 8,
   "id": "3dd2e803-df06-4017-8d61-c575eab552cd",
   "metadata": {},
   "outputs": [
    {
     "data": {
      "text/plain": [
       "\u001b[1;31mType:\u001b[0m        property\n",
       "\u001b[1;31mString form:\u001b[0m <property object at 0x0000022DCD944C20>\n",
       "\u001b[1;31mDocstring:\u001b[0m  \n",
       "return: \n",
       "    периметр полигона"
      ]
     },
     "metadata": {},
     "output_type": "display_data"
    }
   ],
   "source": [
    "?a.perimeter"
   ]
  },
  {
   "cell_type": "markdown",
   "id": "a5d04868-b6b4-45ea-934c-e3cef559403c",
   "metadata": {},
   "source": [
    "### 1.2\n",
    "\n",
    "Напишите функцию, вычисляющую площадь произвольного простого\n",
    "полигона."
   ]
  },
  {
   "cell_type": "code",
   "execution_count": 9,
   "id": "624afbdc-639c-447b-b6ba-3a504e6a3976",
   "metadata": {},
   "outputs": [
    {
     "data": {
      "text/plain": [
       "2.5"
      ]
     },
     "execution_count": 9,
     "metadata": {},
     "output_type": "execute_result"
    }
   ],
   "source": [
    "a.area"
   ]
  },
  {
   "cell_type": "code",
   "execution_count": 10,
   "id": "c83b95ed-8524-479f-adb2-f06339db3bd3",
   "metadata": {},
   "outputs": [
    {
     "data": {
      "text/plain": [
       "\u001b[1;31mType:\u001b[0m        property\n",
       "\u001b[1;31mString form:\u001b[0m <property object at 0x0000022DCD944E00>\n",
       "\u001b[1;31mDocstring:\u001b[0m  \n",
       "return: \n",
       "    площадь полигона"
      ]
     },
     "metadata": {},
     "output_type": "display_data"
    }
   ],
   "source": [
    "?a.area"
   ]
  },
  {
   "cell_type": "markdown",
   "id": "eb70aab0-34dc-4dbf-bd2c-8960993c807a",
   "metadata": {},
   "source": [
    "### 1.3\n",
    "\n",
    "Создайте тест-функцию для определения направления обхода произвольного\n",
    "простого полигона. "
   ]
  },
  {
   "cell_type": "code",
   "execution_count": 11,
   "id": "526d7de9-22fc-4224-b32e-cc92f4488071",
   "metadata": {},
   "outputs": [
    {
     "data": {
      "text/plain": [
       "1"
      ]
     },
     "execution_count": 11,
     "metadata": {},
     "output_type": "execute_result"
    }
   ],
   "source": [
    "a.get_orientation()"
   ]
  },
  {
   "cell_type": "code",
   "execution_count": 12,
   "id": "d93d3d32-dee4-4181-b47d-6b944ca172bb",
   "metadata": {},
   "outputs": [
    {
     "data": {
      "text/plain": [
       "\u001b[1;31mSignature:\u001b[0m \u001b[0ma\u001b[0m\u001b[1;33m.\u001b[0m\u001b[0mget_orientation\u001b[0m\u001b[1;33m(\u001b[0m\u001b[1;33m)\u001b[0m\u001b[1;33m\u001b[0m\u001b[1;33m\u001b[0m\u001b[0m\n",
       "\u001b[1;31mDocstring:\u001b[0m\n",
       "return:\n",
       "    1: против часовой\n",
       "    -1: по часовой\n",
       "    None: что-то другое (Точки коллинеарны или совпадают)\n",
       "\u001b[1;31mFile:\u001b[0m      c:\\temp\\ipykernel_16832\\1436302404.py\n",
       "\u001b[1;31mType:\u001b[0m      method"
      ]
     },
     "metadata": {},
     "output_type": "display_data"
    }
   ],
   "source": [
    "?a.get_orientation"
   ]
  },
  {
   "cell_type": "markdown",
   "id": "9954641e-c867-4e25-9daf-8cd40fd8a61f",
   "metadata": {},
   "source": [
    "### 1.4\n",
    "\n",
    "Напишите тест-функцию выпуклости произвольного простого полигона."
   ]
  },
  {
   "cell_type": "code",
   "execution_count": 13,
   "id": "18f87bea-84da-483f-bd69-619c04a8c81e",
   "metadata": {},
   "outputs": [
    {
     "data": {
      "text/plain": [
       "True"
      ]
     },
     "execution_count": 13,
     "metadata": {},
     "output_type": "execute_result"
    }
   ],
   "source": [
    "a.is_convex()"
   ]
  },
  {
   "cell_type": "code",
   "execution_count": 14,
   "id": "21191ce8-fcfe-45a1-9c02-52fb7447547f",
   "metadata": {},
   "outputs": [
    {
     "data": {
      "text/plain": [
       "\u001b[1;31mSignature:\u001b[0m \u001b[0ma\u001b[0m\u001b[1;33m.\u001b[0m\u001b[0mis_convex\u001b[0m\u001b[1;33m(\u001b[0m\u001b[1;33m)\u001b[0m\u001b[1;33m\u001b[0m\u001b[1;33m\u001b[0m\u001b[0m\n",
       "\u001b[1;31mDocstring:\u001b[0m\n",
       "Опрпеделяет вогнутость полигона\n",
       "\n",
       "return:\n",
       "    True: выпуклый\n",
       "    False: вогнутый\n",
       "\u001b[1;31mFile:\u001b[0m      c:\\temp\\ipykernel_16832\\1436302404.py\n",
       "\u001b[1;31mType:\u001b[0m      method"
      ]
     },
     "metadata": {},
     "output_type": "display_data"
    }
   ],
   "source": [
    "?a.is_convex"
   ]
  },
  {
   "cell_type": "markdown",
   "id": "0da89869-f321-4318-9ba0-fb173561f563",
   "metadata": {},
   "source": [
    "### 1.5\n",
    "\n",
    "Напишите тест-функцию самопересечения полигона. "
   ]
  },
  {
   "cell_type": "code",
   "execution_count": 15,
   "id": "7264736c-0a65-48aa-8548-674e77e9f142",
   "metadata": {},
   "outputs": [
    {
     "data": {
      "text/plain": [
       "(True, False)"
      ]
     },
     "execution_count": 15,
     "metadata": {},
     "output_type": "execute_result"
    }
   ],
   "source": [
    "# Пример полигона, который пересекается сам с собой\n",
    "poly_points = [(0, 0), (2, 2), (0, 4), (4, 0), (2, 4)]\n",
    "polygon = MyPoly(poly_points)\n",
    "\n",
    "# Пример выпуклого полигона, который не пересекается сам с собой\n",
    "convex_poly_points = [(0, 0), (0, 4), (4, 4), (4, 0)]\n",
    "convex_polygon = MyPoly(convex_poly_points)\n",
    "polygon.is_self_intersecting(), convex_polygon.is_self_intersecting() "
   ]
  },
  {
   "cell_type": "code",
   "execution_count": 16,
   "id": "97a09aa7-56aa-4a29-866d-1d685e36dbde",
   "metadata": {},
   "outputs": [
    {
     "data": {
      "text/plain": [
       "False"
      ]
     },
     "execution_count": 16,
     "metadata": {},
     "output_type": "execute_result"
    }
   ],
   "source": [
    "a.is_self_intersecting()"
   ]
  },
  {
   "cell_type": "markdown",
   "id": "08b109c5-f685-4fe5-a5dc-f59360340afc",
   "metadata": {},
   "source": [
    "### 1.7\n",
    "\n",
    "Напишите функцию, вычисляющую взаимное положение полигона и прямой\n",
    "линии. "
   ]
  },
  {
   "cell_type": "code",
   "execution_count": null,
   "id": "a2c7cbfd-9c6a-433b-9652-13b0973b24cc",
   "metadata": {},
   "outputs": [],
   "source": []
  },
  {
   "cell_type": "code",
   "execution_count": null,
   "id": "3198fd52-1e91-42a8-8b51-17a9782aeec3",
   "metadata": {},
   "outputs": [],
   "source": []
  },
  {
   "cell_type": "code",
   "execution_count": 17,
   "id": "877305d5-0488-4f18-b76a-ab1b3aaa9fd1",
   "metadata": {},
   "outputs": [],
   "source": [
    "def get_coefs(line):\n",
    "    a = line[0]\n",
    "    b = line[1]\n",
    "    v = b-a\n",
    "    return v[1], -v[0], -(v[1] * a[0] + (-v[0]) * a[1])"
   ]
  },
  {
   "cell_type": "code",
   "execution_count": 46,
   "id": "0c7965cf-f4e8-4244-86e1-118b5c18890c",
   "metadata": {},
   "outputs": [],
   "source": [
    "def between_line_and_segment(line, ab):\n",
    "    \"\"\"\n",
    "    Определяет взаимное расположение прямой L и отрезка ab.\n",
    "    \"\"\"\n",
    "    a_line, b_line, _ = get_coefs(line)\n",
    "    a_seg, b_seg, _ = get_coefs(ab)\n",
    "    x1, y1 = line[0] \n",
    "    x2, y2 = line[1]\n",
    "    x3, y3 = ab[0]\n",
    "    x4, y4 = ab[1]\n",
    "    \n",
    "    osn = (x1-x2)*(y3-y4) - (y1-y2)*(x3-x4)\n",
    "\n",
    "    if np.isclose(osn, 0):\n",
    "        if a_line == a_seg and b_line == b_seg:\n",
    "            return ab, \"отрезок\" # отрезок на прямой\n",
    "        else:\n",
    "            \"None\" # отрезок не пересекается\n",
    "    \n",
    "    Px = ((x1*y2-y1*x2)*(x3-x4)-(x1-x2)*(x3*y4-y3*x4)) / osn\n",
    "    Py = ((x1*y2-y1*x2)*(y3-y4)-(y1-y2)*(x3*y4-y3*x4)) / osn\n",
    "\n",
    "    # print(Px, Py)\n",
    "    \n",
    "    if min(x3, x4) <= Px <= max(x3, x4) and min(y3, y4) <= Py <= max(y3, y4):\n",
    "        return np.array([Px, Py])\n",
    "    else:\n",
    "        return \"None\"\n",
    "    \n",
    "    \n"
   ]
  },
  {
   "cell_type": "code",
   "execution_count": 43,
   "id": "922fab1a-102f-4668-a412-c11f98747a8a",
   "metadata": {},
   "outputs": [],
   "source": [
    "def line_and_poly(line, poly):\n",
    "    points = poly.points\n",
    "    points_result = []\n",
    "    segments_result = []\n",
    "\n",
    "    # Проверяем, находятся ли обе точки отрезка внутри полигона\n",
    "    p1_inside = point_in_poly_bool(line[0], poly)\n",
    "    p2_inside = point_in_poly_bool(line[1], poly)\n",
    "\n",
    "    if p1_inside and p2_inside:\n",
    "        return \"Не пересекает\"  # Отрезок полностью внутри полигона\n",
    "\n",
    "    for i in range(len(points)):\n",
    "        point1 = points[i]\n",
    "        point2 = points[(i + 1) % len(points)]\n",
    "        temp_res = between_line_and_segment(line, np.array([point1, point2]))\n",
    "\n",
    "        if isinstance(temp_res, str):\n",
    "            continue  # Нет пересечения\n",
    "        elif isinstance(temp_res, tuple):\n",
    "            # Пересечение с отрезком полигона\n",
    "            segments_result.append(temp_res[0])\n",
    "        else:\n",
    "            # Пересечение в точке\n",
    "            points_result.append(temp_res)\n",
    "\n",
    "    # Убираем дубликаты точек пересечения\n",
    "    points_result = np.unique(points_result, axis=0)\n",
    "\n",
    "    # Если есть пересечения с отрезками\n",
    "    if segments_result:\n",
    "        return \"Пересекает отрезки\", np.array(segments_result)\n",
    "\n",
    "    # Если есть пересечения в точках\n",
    "    if points_result.size > 0:\n",
    "        return \"Пересекает точки\", points_result\n",
    "\n",
    "    # Если пересечений нет\n",
    "    return \"Не пересекает\""
   ]
  },
  {
   "cell_type": "code",
   "execution_count": 44,
   "id": "4c26b9fd-1f7f-4293-9d34-ebf4cea6ca95",
   "metadata": {},
   "outputs": [],
   "source": [
    "result = line_and_poly(np.array([[1, 0.5], [5, 5]]), a)"
   ]
  },
  {
   "cell_type": "code",
   "execution_count": 45,
   "id": "14fe27f0-0079-4243-8dde-956a91d73b15",
   "metadata": {},
   "outputs": [
    {
     "data": {
      "text/plain": [
       "('Пересекает точки',\n",
       " array([[1.34285714, 0.88571429],\n",
       "        [2.44      , 2.12      ]]))"
      ]
     },
     "execution_count": 45,
     "metadata": {},
     "output_type": "execute_result"
    }
   ],
   "source": [
    "result"
   ]
  },
  {
   "cell_type": "markdown",
   "id": "21353ae2-5861-44cd-8262-0bd203732fdb",
   "metadata": {},
   "source": [
    "### 1.6\n",
    "\n",
    "Напишите булеву функцию, определяющую пересечение\n",
    "прямой и полигона."
   ]
  },
  {
   "cell_type": "code",
   "execution_count": 24,
   "id": "9ee4cc57-9ab4-4846-b780-bb1fa2bd7e08",
   "metadata": {},
   "outputs": [],
   "source": [
    "def line_and_poly_bool(line, poly):\n",
    "    points = poly.points\n",
    "    points_result = []\n",
    "    segments_result = []\n",
    "    for i in range(len(points)):\n",
    "        point1 = points[i]\n",
    "        point2 = points[(i+1) % len(points)]\n",
    "        temp_res = between_line_and_segment(line, np.array([point1, point2]))\n",
    "        if isinstance(temp_res, str):\n",
    "            continue\n",
    "        elif isinstance(temp_res, tuple):\n",
    "            return True\n",
    "        else:\n",
    "            return True\n",
    "    return False"
   ]
  },
  {
   "cell_type": "code",
   "execution_count": 25,
   "id": "8538e519-f727-4df2-a214-a9df9133f387",
   "metadata": {},
   "outputs": [
    {
     "data": {
      "text/plain": [
       "False"
      ]
     },
     "execution_count": 25,
     "metadata": {},
     "output_type": "execute_result"
    }
   ],
   "source": [
    "line_and_poly_bool(np.array([[5, 4],[10, 4]]), a)"
   ]
  },
  {
   "cell_type": "markdown",
   "id": "169d260a-a7fa-4d3f-a55c-2557754ad32b",
   "metadata": {},
   "source": [
    "# 2"
   ]
  },
  {
   "cell_type": "markdown",
   "id": "54f3992f-0e32-4214-b5dc-8933f264eae1",
   "metadata": {},
   "source": [
    "### 2.1\n",
    "\n",
    "Напишите функцию, определяющую гарантированную непринадлежность\n",
    "заданной точки полигону. "
   ]
  },
  {
   "cell_type": "code",
   "execution_count": 26,
   "id": "67978b77-e503-4ae5-8a99-6c347fc2f966",
   "metadata": {},
   "outputs": [],
   "source": [
    "def kdistance(line, point):\n",
    "    A, B, C = get_coefs(line)\n",
    "    x0, y0 = point\n",
    "    distance = (A * x0 + B * y0 + C) / np.sqrt(A**2 + B**2)\n",
    "    return distance\n",
    "\n",
    "def point_in_poly_bool(point, poly:Poly):\n",
    "    \"\"\"\n",
    "    Если точка внутри или на границе полигона True, иначе False\n",
    "    \"\"\"\n",
    "    points = poly.points\n",
    "    for i in range(len(points)):\n",
    "        point1 = points[i]\n",
    "        point2 = points[(i+1) % len(points)]\n",
    "        temp_res = kdistance(np.array([point1, point2]), point)\n",
    "        if temp_res < 0:\n",
    "            return False\n",
    "    return True"
   ]
  },
  {
   "cell_type": "code",
   "execution_count": 27,
   "id": "afcb75b0-c85c-4cae-b864-dfadca3bd3ae",
   "metadata": {},
   "outputs": [
    {
     "data": {
      "text/plain": [
       "False"
      ]
     },
     "execution_count": 27,
     "metadata": {},
     "output_type": "execute_result"
    }
   ],
   "source": [
    "point_in_poly_bool([-1, 1],a)"
   ]
  },
  {
   "cell_type": "markdown",
   "id": "b8205d52-07e6-4e4c-aaf4-2ed86de271bb",
   "metadata": {},
   "source": [
    "### 2.2 \n",
    "\n",
    "Напишите тест-функцию определения положения точки относительно\n",
    "выпуклого полигона."
   ]
  },
  {
   "cell_type": "code",
   "execution_count": 28,
   "id": "bed3afbf-3f2e-451c-b16c-f94279ac2cbb",
   "metadata": {},
   "outputs": [],
   "source": [
    "def point_in_poly(point, poly:Poly):\n",
    "    points = poly.points\n",
    "    for i in range(len(points)):\n",
    "        point1 = points[i]\n",
    "        point2 = points[(i+1) % len(points)]\n",
    "        temp_res = kdistance(np.array([point1, point2]), point)\n",
    "        if temp_res == 0:\n",
    "            return f\"Точка лежит на границе(отрезке) {[tuple(point1), tuple(point2)]}\"\n",
    "        elif temp_res < 0:\n",
    "            return \"Точка вне полигона\"\n",
    "    return \"Точка внутри полигона\""
   ]
  },
  {
   "cell_type": "code",
   "execution_count": 29,
   "id": "0e16ecf9-ac67-47b6-ab3d-8a99eecf20be",
   "metadata": {},
   "outputs": [
    {
     "data": {
      "text/plain": [
       "'Точка вне полигона'"
      ]
     },
     "execution_count": 29,
     "metadata": {},
     "output_type": "execute_result"
    }
   ],
   "source": [
    "point_in_poly([1, 0],a)"
   ]
  },
  {
   "cell_type": "markdown",
   "id": "4c243cc8-db7f-4264-a4d4-14863c8436eb",
   "metadata": {},
   "source": [
    "### 2.3\n",
    "\n",
    "Напишите функцию, реализующую угловой тест, определяющий положение\n",
    "точки относительно произвольного простого полигона. "
   ]
  },
  {
   "cell_type": "code",
   "execution_count": 30,
   "id": "a61260d5-344a-4ad3-8920-d53d27e0b82e",
   "metadata": {},
   "outputs": [],
   "source": [
    "def get_angle(p1, p2):\n",
    "    return np.arctan2(p2[1] - p1[1], p2[0] - p1[0])"
   ]
  },
  {
   "cell_type": "code",
   "execution_count": 31,
   "id": "906081d2-c62e-4d79-a285-2a10419f6b93",
   "metadata": {},
   "outputs": [],
   "source": [
    "def point_in_poly_angle(poly, point):\n",
    "    \"\"\"\n",
    "    Вычисляем разность углов между точкой и соседними вершинами полигона и аккумулируем их, чтобы получить суммарный угол. \n",
    "    Если суммарный угол близок к 2π или −2π, точка находится внутри полигона.\n",
    "    \"\"\"\n",
    "    points = poly.points\n",
    "    angles = []\n",
    "    for i in range(len(points)):\n",
    "        angle = get_angle(point, points[i]) - get_angle(point, points[(i + 1) % len(points)])\n",
    "        angles.append(np.arctan2(np.sin(angle), np.cos(angle)))\n",
    "    return abs(sum(angles)) > 1e-10"
   ]
  },
  {
   "cell_type": "code",
   "execution_count": 32,
   "id": "6fd13977-7add-4a77-9ea1-2eee28c13865",
   "metadata": {},
   "outputs": [
    {
     "data": {
      "text/plain": [
       "False"
      ]
     },
     "execution_count": 32,
     "metadata": {},
     "output_type": "execute_result"
    }
   ],
   "source": [
    "point_in_poly_angle(a, [1, 1])"
   ]
  },
  {
   "cell_type": "markdown",
   "id": "c497e7d3-e25b-4f9f-ac8e-daa9fd96a907",
   "metadata": {},
   "source": [
    "### 2.4\n",
    "\n",
    "Напишите функцию, реализующую лучевой тест, определяющий положение\n",
    "точки относительно произвольного простого полигона. "
   ]
  },
  {
   "cell_type": "code",
   "execution_count": 33,
   "id": "c4a04d1a-b9a1-405d-b24f-f96eebf9ee79",
   "metadata": {},
   "outputs": [],
   "source": [
    "def point_on_edge(p1, p2, point):\n",
    "    px, py = point\n",
    "    p1x, p1y = p1\n",
    "    p2x, p2y = p2\n",
    "    if p1x != p2x:\n",
    "        if not (min(p1x, p2x) <= px <= max(p1x, p2x)):\n",
    "            return False\n",
    "    if p1y != p2y:\n",
    "        if not (min(p1y, p2y) <= py <= max(p1y, p2y)):\n",
    "            return False\n",
    "    return (px - p1x) * (p2y - p1y) == (py - p1y) * (p2x - p1x)\n",
    "\n",
    "def point_in_poly_ray(poly:Poly, point):\n",
    "    points = poly.points\n",
    "    x, y = point\n",
    "    n = len(points)\n",
    "    inside = False\n",
    "\n",
    "    p1x, p1y = points[0]\n",
    "    for i in range(1, n + 1):\n",
    "        p2x, p2y = points[i % n]\n",
    "        if point_on_edge((p1x, p1y), (p2x, p2y), point):\n",
    "            # print(inside)\n",
    "            return True\n",
    "        if y > min(p1y, p2y):\n",
    "            if y <= max(p1y, p2y):\n",
    "                if x <= max(p1x, p2x):\n",
    "                    if p1y != p2y:\n",
    "                        xinters = (y - p1y) * (p2x - p1x) / (p2y - p1y) + p1x\n",
    "                    if p1x == p2x or x <= xinters:\n",
    "                        inside = not inside\n",
    "        p1x, p1y = p2x, p2y\n",
    "        # print(inside)\n",
    "\n",
    "    return inside"
   ]
  },
  {
   "cell_type": "code",
   "execution_count": 34,
   "id": "ade05b12-b47f-45ea-a4c6-354070e2bad1",
   "metadata": {},
   "outputs": [
    {
     "data": {
      "text/plain": [
       "False"
      ]
     },
     "execution_count": 34,
     "metadata": {},
     "output_type": "execute_result"
    }
   ],
   "source": [
    "point_in_poly_ray(a, [0, -1])"
   ]
  },
  {
   "cell_type": "markdown",
   "id": "4ec6eb36-d87a-4e63-9796-11fb803ff55f",
   "metadata": {},
   "source": [
    "# 3"
   ]
  },
  {
   "cell_type": "markdown",
   "id": "952da45c-17de-4247-86f9-2f3703ae1d5e",
   "metadata": {},
   "source": [
    "### 3.1\n",
    "\n",
    "Напишите функцию, реализующую операцию отсечения отрезка выпуклым\n",
    "полигоном (или внутреннее, или внешнее, в зависимости от значения\n",
    "аргумента).\n",
    "\n",
    "\n",
    "Используйте метод анализа значений параметров, соответствующих точкам\n",
    "пересечения ребер полигона и параметризованной прямой, несущей отрезок. \n"
   ]
  },
  {
   "cell_type": "code",
   "execution_count": 35,
   "id": "042aef77-b9d2-4af7-92b5-75a4e3f2e6a9",
   "metadata": {},
   "outputs": [],
   "source": [
    "def clip_line_with_polygon(line_points, polygon, clip_type=\"inner\"):\n",
    "    \"\"\"\n",
    "    Отсекает отрезок выпуклым полигоном.\n",
    "\n",
    "    Args:\n",
    "        line_points (np.ndarray): Координаты двух точек отрезка.\n",
    "        polygon (MyPoly): Выпуклый полигон.\n",
    "        clip_type (str): Тип отсечения. \"inner\" для внутреннего отсечения, \"outer\" для внешнего.\n",
    "\n",
    "    Returns:\n",
    "        list: Список отрезков, полученных после отсечения.\n",
    "    \"\"\"\n",
    "    if not polygon.is_convex():\n",
    "        raise ValueError(\"Полигон должен быть выпуклым.\")\n",
    "\n",
    "    # Получаем результат пересечения отрезка с полигоном\n",
    "    intersection_result = line_and_poly(line_points, polygon)\n",
    "\n",
    "    # Если пересечений нет\n",
    "    if intersection_result == \"Не пересекает\":\n",
    "        # Проверяем, лежат ли обе точки отрезка внутри полигона\n",
    "        p1_inside = point_in_poly_bool(line_points[0], polygon)\n",
    "        p2_inside = point_in_poly_bool(line_points[1], polygon)\n",
    "\n",
    "        if p1_inside and p2_inside:\n",
    "            if clip_type == \"inner\":\n",
    "                return [line_points]  # Отрезок полностью внутри\n",
    "            else:\n",
    "                return []  # Отрезок полностью внутри, но для outer возвращаем пустой список\n",
    "        else:\n",
    "            if clip_type == \"inner\":\n",
    "                return []  # Отрезок полностью снаружи\n",
    "            else:\n",
    "                return [line_points]  # Отрезок полностью снаружи, но для outer возвращаем его\n",
    "\n",
    "    # Если есть пересечения\n",
    "    if intersection_result[0] == \"Пересекает точки\":\n",
    "        intersections = intersection_result[1]\n",
    "    elif intersection_result[0] == \"Пересекает отрезки\":\n",
    "        intersections = intersection_result[1].reshape(-1, 2)  # Преобразуем отрезки в точки\n",
    "    else:\n",
    "        raise ValueError(\"Неожиданный результат пересечения.\")\n",
    "\n",
    "    # Если пересечение одно\n",
    "    if len(intersections) == 1:\n",
    "        p1_inside = point_in_poly_bool(line_points[0], polygon)\n",
    "        p2_inside = point_in_poly_bool(line_points[1], polygon)\n",
    "\n",
    "        if p1_inside:\n",
    "            if clip_type == \"inner\":\n",
    "                return [np.array([line_points[0], intersections[0]])]\n",
    "            else:\n",
    "                return [np.array([intersections[0], line_points[1]])]\n",
    "        elif p2_inside:\n",
    "            if clip_type == \"inner\":\n",
    "                return [np.array([line_points[1], intersections[0]])]\n",
    "            else:\n",
    "                return [np.array([line_points[0], intersections[0]])]\n",
    "        else:\n",
    "            return []\n",
    "\n",
    "    # Если пересечений два\n",
    "    if len(intersections) == 2:\n",
    "        # Проверяем, лежит ли середина отрезка между пересечениями внутри полигона\n",
    "        mid_point = (intersections[0] + intersections[1]) / 2\n",
    "        mid_inside = point_in_poly_bool(mid_point, polygon)\n",
    "\n",
    "        if mid_inside:\n",
    "            if clip_type == \"inner\":\n",
    "                return [intersections]  # Возвращаем отрезок между пересечениями\n",
    "            else:\n",
    "                # Возвращаем два отрезка: до первого пересечения и после второго\n",
    "                return [\n",
    "                    np.array([line_points[0], intersections[0]]),\n",
    "                    np.array([intersections[1], line_points[1]])\n",
    "                ]\n",
    "        else:\n",
    "            if clip_type == \"inner\":\n",
    "                return []  # Отрезок полностью снаружи\n",
    "            else:\n",
    "                # Возвращаем два отрезка: между пересечениями\n",
    "                return [intersections]\n",
    "\n",
    "    # Если пересечений больше двух, это ошибка (выпуклый полигон не может иметь больше двух пересечений)\n",
    "    raise ValueError(\"Полигон не является выпуклым или произошла ошибка.\")"
   ]
  },
  {
   "cell_type": "code",
   "execution_count": 36,
   "id": "b552a99a-b288-4946-943c-255370d0962c",
   "metadata": {},
   "outputs": [
    {
     "data": {
      "text/plain": [
       "[array([[2. , 1.5],\n",
       "        [2. , 2. ]])]"
      ]
     },
     "execution_count": 36,
     "metadata": {},
     "output_type": "execute_result"
    }
   ],
   "source": [
    "clip_line_with_polygon(np.array([[2,1.5], [2, 2]]), a)"
   ]
  },
  {
   "cell_type": "code",
   "execution_count": null,
   "id": "73b96970-eb59-45c7-80da-3964108e477d",
   "metadata": {},
   "outputs": [],
   "source": []
  },
  {
   "cell_type": "markdown",
   "id": "f2bbf31d-26a5-4ca4-a161-6d597ab7677d",
   "metadata": {},
   "source": [
    "# 4"
   ]
  },
  {
   "cell_type": "markdown",
   "id": "2242dfb9-b3c6-45bf-9cc1-7fe09546d72e",
   "metadata": {},
   "source": [
    "## 4.1\n",
    "\n",
    "Напишите функцию, реализующую отсечение произвольного простого\n",
    "полигона произвольным простым полигоном, область видимости –\n",
    "внутренность отсекателя."
   ]
  },
  {
   "cell_type": "code",
   "execution_count": 47,
   "id": "d318248f-5d92-4e91-9b30-79bff84f4b15",
   "metadata": {},
   "outputs": [
    {
     "name": "stdout",
     "output_type": "stream",
     "text": [
      "Результат отсечения: [[3.0, 3.0], [5.0, 3.0], [5.0, 5.0], [3.0, 5.0]]\n"
     ]
    }
   ],
   "source": [
    "def is_convex_polygon(polygon): # не используется\n",
    "    \"\"\"\n",
    "    Проверяет, является ли полигон выпуклым.\n",
    "\n",
    "    Args:\n",
    "        polygon (list): Список точек полигона.\n",
    "\n",
    "    Returns:\n",
    "        bool: True, если полигон выпуклый, иначе False.\n",
    "    \"\"\"\n",
    "    n = len(polygon)\n",
    "    if n < 3:\n",
    "        return False\n",
    "\n",
    "    direction = None\n",
    "    for i in range(n):\n",
    "        p1 = polygon[i]\n",
    "        p2 = polygon[(i + 1) % n]\n",
    "        p3 = polygon[(i + 2) % n]\n",
    "\n",
    "        cross_product = np.cross(p2 - p1, p3 - p2)\n",
    "\n",
    "        if direction is None:\n",
    "            direction = np.sign(cross_product)\n",
    "        elif direction != np.sign(cross_product):\n",
    "            return False\n",
    "\n",
    "    return True\n",
    "\n",
    "def point_in_polygon(point, polygon): # не используется\n",
    "    \"\"\"\n",
    "    Проверяет, находится ли точка внутри полигона.\n",
    "\n",
    "    Args:\n",
    "        point (np.ndarray): Координаты точки.\n",
    "        polygon (list): Список точек полигона.\n",
    "\n",
    "    Returns:\n",
    "        bool: True, если точка внутри полигона или на его границе, иначе False.\n",
    "    \"\"\"\n",
    "    n = len(polygon)\n",
    "    winding_number = 0\n",
    "\n",
    "    for i in range(n):\n",
    "        p1 = polygon[i]\n",
    "        p2 = polygon[(i + 1) % n]\n",
    "\n",
    "        if p1[1] <= point[1]:\n",
    "            if p2[1] > point[1] and np.cross(p2 - p1, point - p1) > 0:\n",
    "                winding_number += 1\n",
    "        else:\n",
    "            if p2[1] <= point[1] and np.cross(p2 - p1, point - p1) < 0:\n",
    "                winding_number -= 1\n",
    "\n",
    "    return winding_number != 0\n",
    "\n",
    "def line_segment_intersection(line, segment):\n",
    "    \"\"\"\n",
    "    Проверяет пересечение отрезка с линией.\n",
    "\n",
    "    Args:\n",
    "        line (np.ndarray): Две точки, определяющие линию.\n",
    "        segment (np.ndarray): Две точки, определяющие отрезок.\n",
    "\n",
    "    Returns:\n",
    "        np.ndarray or None: Координаты точки пересечения или None, если пересечения нет.\n",
    "    \"\"\"\n",
    "    x1, y1, x2, y2 = *line[0], *line[1]\n",
    "    x3, y3, x4, y4 = *segment[0], *segment[1]\n",
    "\n",
    "    denominator = (x1 - x2) * (y3 - y4) - (y1 - y2) * (x3 - x4)\n",
    "    if np.isclose(denominator, 0):\n",
    "        return None\n",
    "\n",
    "    Px = ((x1 * y2 - y1 * x2) * (x3 - x4) - (x1 - x2) * (x3 * y4 - y3 * x4)) / denominator\n",
    "    Py = ((x1 * y2 - y1 * x2) * (y3 - y4) - (y1 - y2) * (x3 * y4 - y3 * x4)) / denominator\n",
    "\n",
    "    if min(x3, x4) <= Px <= max(x3, x4) and min(y3, y4) <= Py <= max(y3, y4):\n",
    "        return np.array([Px, Py])\n",
    "\n",
    "    return None\n",
    "\n",
    "def clip_polygon(subject_polygon, clipper_polygon):\n",
    "    \"\"\"\n",
    "    Отсекает произвольный простой полигон другим простым полигоном.\n",
    "\n",
    "    Args:\n",
    "        subject_polygon (list): Список точек исходного полигона.\n",
    "        clipper_polygon (list): Список точек полигона-отсекателя.\n",
    "\n",
    "    Returns:\n",
    "        list: Координаты отсеченного полигона.\n",
    "    \"\"\"\n",
    "    def inside(point, edge_start, edge_end):\n",
    "        return np.cross(edge_end - edge_start, point - edge_start) >= 0\n",
    "\n",
    "    def compute_intersection(p1, p2, edge_start, edge_end):\n",
    "        line = np.array([edge_start, edge_end])\n",
    "        segment = np.array([p1, p2])\n",
    "        return line_segment_intersection(line, segment)\n",
    "\n",
    "    output_list = subject_polygon\n",
    "\n",
    "    for i in range(len(clipper_polygon)):\n",
    "        input_list = output_list\n",
    "        output_list = []\n",
    "\n",
    "        edge_start = clipper_polygon[i - 1]\n",
    "        edge_end = clipper_polygon[i]\n",
    "\n",
    "        for j in range(len(input_list)):\n",
    "            current_point = input_list[j]\n",
    "            prev_point = input_list[j - 1]\n",
    "\n",
    "            if inside(current_point, edge_start, edge_end):\n",
    "                if not inside(prev_point, edge_start, edge_end):\n",
    "                    intersection = compute_intersection(prev_point, current_point, edge_start, edge_end)\n",
    "                    if intersection is not None:\n",
    "                        output_list.append(intersection)\n",
    "                output_list.append(current_point)\n",
    "            elif inside(prev_point, edge_start, edge_end):\n",
    "                intersection = compute_intersection(prev_point, current_point, edge_start, edge_end)\n",
    "                if intersection is not None:\n",
    "                    output_list.append(intersection)\n",
    "\n",
    "    return np.array(output_list).tolist()\n",
    "\n",
    "# Пример использования\n",
    "subject_polygon = np.array([[1, 1], [5, 1], [5, 5], [1, 5]])\n",
    "clipper_polygon = np.array([[3, 3], [7, 3], [7, 7], [3, 7]])\n",
    "\n",
    "result = clip_polygon(subject_polygon, clipper_polygon)\n",
    "print(\"Результат отсечения:\", result)\n"
   ]
  },
  {
   "cell_type": "code",
   "execution_count": 48,
   "id": "f37f12bb-fa35-482e-86be-80568eab8b93",
   "metadata": {},
   "outputs": [],
   "source": [
    "s = MyPoly(subject_polygon)\n",
    "c = MyPoly(clipper_polygon)"
   ]
  },
  {
   "cell_type": "code",
   "execution_count": 49,
   "id": "bfa88399-7727-4e91-a391-8a43c16526c4",
   "metadata": {},
   "outputs": [
    {
     "data": {
      "text/plain": [
       "<Axes: >"
      ]
     },
     "execution_count": 49,
     "metadata": {},
     "output_type": "execute_result"
    },
    {
     "data": {
      "image/png": "[encoded data removed]",
      "text/plain": [
       "<Figure size 640x480 with 1 Axes>"
      ]
     },
     "metadata": {},
     "output_type": "display_data"
    }
   ],
   "source": [
    "s.plot"
   ]
  },
  {
   "cell_type": "code",
   "execution_count": 50,
   "id": "3edbc46b-5339-483b-8548-172a965a4596",
   "metadata": {},
   "outputs": [
    {
     "data": {
      "text/plain": [
       "<Axes: >"
      ]
     },
     "execution_count": 50,
     "metadata": {},
     "output_type": "execute_result"
    },
    {
     "data": {
      "image/png": "[encoded data removed]",
      "text/plain": [
       "<Figure size 640x480 with 1 Axes>"
      ]
     },
     "metadata": {},
     "output_type": "display_data"
    }
   ],
   "source": [
    "c.plot"
   ]
  },
  {
   "cell_type": "code",
   "execution_count": 54,
   "id": "8692642b-e31f-4ac1-88b4-3f03e2f48243",
   "metadata": {},
   "outputs": [
    {
     "data": {
      "image/png": "[encoded data removed]",
      "text/plain": [
       "<Figure size 640x480 with 1 Axes>"
      ]
     },
     "metadata": {},
     "output_type": "display_data"
    }
   ],
   "source": [
    "fig, ax = plt.subplots()\n",
    "\n",
    "# Добавляем первый полигон\n",
    "subject = Polygon(subject_polygon, closed=True, color='blue', alpha=0.5)\n",
    "ax.add_patch(subject)\n",
    "\n",
    "# Добавляем второй полигон\n",
    "clipper = Polygon(clipper_polygon, closed=True, color='red', alpha=0.5)\n",
    "ax.add_patch(clipper)\n",
    "\n",
    "# Настраиваем оси\n",
    "ax.set_xlim(0, 8)\n",
    "ax.set_ylim(0, 8)\n",
    "ax.set_aspect('equal', adjustable='box')\n",
    "\n",
    "plt.show()"
   ]
  },
  {
   "cell_type": "code",
   "execution_count": null,
   "id": "c0dff5ac-16e7-471a-ad81-384a6d1b24bc",
   "metadata": {},
   "outputs": [],
   "source": []
  },
  {
   "cell_type": "code",
   "execution_count": null,
   "id": "e14dcb91-6d7d-4def-b840-b3be3ba63faf",
   "metadata": {},
   "outputs": [],
   "source": []
  }
 ],
 "metadata": {
  "kernelspec": {
   "display_name": "Python 3 (ipykernel)",
   "language": "python",
   "name": "python3"
  },
  "language_info": {
   "codemirror_mode": {
    "name": "ipython",
    "version": 3
   },
   "file_extension": ".py",
   "mimetype": "text/x-python",
   "name": "python",
   "nbconvert_exporter": "python",
   "pygments_lexer": "ipython3",
   "version": "3.12.0"
  }
 },
 "nbformat": 4,
 "nbformat_minor": 5
}
