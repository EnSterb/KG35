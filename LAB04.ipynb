{
 "cells": [
  {
   "cell_type": "code",
   "execution_count": 1,
   "id": "fddd71e5-9b0d-45cf-9e9b-efdf005c2b6c",
   "metadata": {},
   "outputs": [],
   "source": [
    "import numpy as np\n",
    "import sympy as sp\n",
    "\n",
    "import random\n",
    "import math\n",
    "\n",
    "import matplotlib.pyplot as plt\n",
    "from matplotlib.patches import Polygon"
   ]
  },
  {
   "cell_type": "markdown",
   "id": "78beea6a-7b77-46fe-bd8a-a99e4d1054db",
   "metadata": {},
   "source": [
    "# 2\n",
    "\n",
    "*ПЕРЕСЕЧЕНИЕ ОТРЕЗКОВ ПРЯМЫХ МЕТОДОМ SWEEPING LINE*"
   ]
  },
  {
   "cell_type": "markdown",
   "id": "c954cd3a-e653-49c1-a1c0-b63e720474c3",
   "metadata": {},
   "source": [
    "**Применение метода заметания плоскости для поиска пересечений отрезков**\n",
    "\n",
    "Для задачи поиска всех пар пересекающихся отрезков на плоскости, метод заметания плоскости работает следующим образом:\n",
    "\n",
    "1. Инициализация: Создаем список событий, которые включают начальные и конечные точки всех отрезков. Сортируем эти события по координате x.\n",
    "\n",
    "2. Обработка событий: Используем структуру данных для хранения отрезков, которые пересекают текущую вертикальную линию. При обработке каждого события:\n",
    "\n",
    "    - Начало отрезка: Добавляем отрезок в структуру данных. Проверяем, пересекается ли он с отрезками, находящимися выше и ниже него в структуре.\n",
    "    - Конец отрезка: Удаляем отрезок из структуры данных.\n",
    "    - Пересечение: Если найдено пересечение, добавляем его в список пересечений.\n"
   ]
  },
  {
   "cell_type": "markdown",
   "id": "19c5de51-8d20-4518-8b2f-64a7b2e790b3",
   "metadata": {},
   "source": [
    "**Алгоритм нахождения всех пар пересекающихся отрезков**\n",
    "\n",
    "1. Сортировка событий: Сортируем все точки (начальные и конечные) отрезков по координате x. Если координаты x совпадают, сортируем по координате y.\n",
    "\n",
    "2. Инициализация структуры данных: Создаем структуру данных для хранения отрезков, пересекающих текущую вертикальную линию.\n",
    "\n",
    "3. Обработка событий:\n",
    "\n",
    "    - Для каждой точки:\n",
    "\n",
    "        - Если это начало отрезка, добавляем отрезок в структуру данных и проверяем пересечения с соседними отрезками.\n",
    "\n",
    "        - Если это конец отрезка, удаляем отрезок из структуры данных.\n",
    "\n",
    "        - Если найдено пересечение, добавляем его в список пересечений.\n",
    "\n",
    "4. Вывод результатов: Возвращаем список всех найденных пересечений."
   ]
  },
  {
   "cell_type": "markdown",
   "id": "9591d2bb-3ae2-4fe6-88d3-cb64e491a0db",
   "metadata": {},
   "source": [
    "**Спроектируйте функции**\n",
    "\n",
    "1. sort_events(segments):\n",
    "\n",
    "    - Входные аргументы: segments — список отрезков.\n",
    "\n",
    "    - Что делает: Сортирует все точки (начальные и конечные) отрезков по координате x.\n",
    "\n",
    "    - Выход: Отсортированный список событий.\n",
    "\n",
    "2. find_intersections(segments):\n",
    "\n",
    "    - Входные аргументы: segments — список отрезков.\n",
    "\n",
    "    - Что делает: Находит все пары пересекающихся отрезков, используя метод заметания плоскости.\n",
    "\n",
    "    - Выход: Список пар пересекающихся отрезков.\n",
    "\n",
    "3. process_event(event, active_segments, intersections):\n",
    "\n",
    "    - Входные аргументы: event — текущее событие, active_segments — структура данных с активными отрезками, intersections — список пересечений.\n",
    "\n",
    "    - Что делает: Обрабатывает текущее событие (начало/конец отрезка или пересечение).\n",
    "\n",
    "    - Выход: Обновленные active_segments и intersections.\n",
    "\n",
    "4. check_intersection(segment1, segment2):\n",
    "\n",
    "    - Входные аргументы: segment1, segment2 — два отрезка.\n",
    "\n",
    "    - Что делает: Проверяет, пересекаются ли два отрезка.\n",
    "\n",
    "    - Выход: True, если отрезки пересекаются, иначе False."
   ]
  },
  {
   "cell_type": "markdown",
   "id": "9692a577-5f72-4c0a-9711-990b2e0763b4",
   "metadata": {},
   "source": [
    "ссылка на диаграмму\n",
    "\n",
    "https://lucid.app/lucidchart/17e869e3-4338-49ac-97e8-b0eb1892c227/edit?viewport_loc=-662%2C-756%2C3803%2C1929%2C0_0&invitationId=inv_184e8c7b-c5b3-4671-a6b3-b9c7132be9a1"
   ]
  },
  {
   "cell_type": "code",
   "execution_count": 2,
   "id": "35acf836-d99e-4d7c-8fc0-72b3551a6cc5",
   "metadata": {},
   "outputs": [],
   "source": [
    "from sortedcontainers import SortedList"
   ]
  },
  {
   "cell_type": "code",
   "execution_count": 3,
   "id": "c76f7df1-a708-4008-8a81-cb94e637a675",
   "metadata": {},
   "outputs": [],
   "source": [
    "class Segment:\n",
    "    def __init__(self, start, end):\n",
    "        self.start = start\n",
    "        self.end = end\n",
    "\n",
    "def sort_events(segments):\n",
    "    events = []\n",
    "    for segment in segments:\n",
    "        events.append((segment.start, 'start', segment))\n",
    "        events.append((segment.end, 'end', segment))\n",
    "    events.sort(key=lambda x: (x[0][0], x[0][1]))\n",
    "    return events\n",
    "\n",
    "def check_intersection(segment1, segment2):\n",
    "    def orientation(p, q, r):\n",
    "        val = (q[1] - p[1]) * (r[0] - q[0]) - (q[0] - p[0]) * (r[1] - q[1])\n",
    "        if val == 0:\n",
    "            return 0\n",
    "        elif val > 0:\n",
    "            return 1\n",
    "        else:\n",
    "            return 2\n",
    "\n",
    "    def on_segment(p, q, r):\n",
    "        if min(p[0], r[0]) <= q[0] <= max(p[0], r[0]) and min(p[1], r[1]) <= q[1] <= max(p[1], r[1]):\n",
    "            return True\n",
    "        return False\n",
    "\n",
    "    p1, q1 = segment1.start, segment1.end\n",
    "    p2, q2 = segment2.start, segment2.end\n",
    "\n",
    "    o1 = orientation(p1, q1, p2)\n",
    "    o2 = orientation(p1, q1, q2)\n",
    "    o3 = orientation(p2, q2, p1)\n",
    "    o4 = orientation(p2, q2, q1)\n",
    "\n",
    "    if o1 != o2 and o3 != o4:\n",
    "        return True\n",
    "\n",
    "    if o1 == 0 and on_segment(p1, p2, q1):\n",
    "        return True\n",
    "    if o2 == 0 and on_segment(p1, q2, q1):\n",
    "        return True\n",
    "    if o3 == 0 and on_segment(p2, p1, q2):\n",
    "        return True\n",
    "    if o4 == 0 and on_segment(p2, q1, q2):\n",
    "        return True\n",
    "\n",
    "    return False\n",
    "\n",
    "def process_event(event, active_segments, intersections):\n",
    "    point, event_type, segment = event\n",
    "    if event_type == 'start':\n",
    "        active_segments.add(segment)\n",
    "        idx = active_segments.index(segment)\n",
    "        if idx > 0 and check_intersection(segment, active_segments[idx - 1]):\n",
    "            intersections.add((segment, active_segments[idx - 1]))\n",
    "        if idx < len(active_segments) - 1 and check_intersection(segment, active_segments[idx + 1]):\n",
    "            intersections.add((segment, active_segments[idx + 1]))\n",
    "    elif event_type == 'end':\n",
    "        if segment in active_segments:\n",
    "            idx = active_segments.index(segment)\n",
    "            if idx > 0 and idx < len(active_segments) - 1:\n",
    "                if check_intersection(active_segments[idx - 1], active_segments[idx + 1]):\n",
    "                    intersections.add((active_segments[idx - 1], active_segments[idx + 1]))\n",
    "            active_segments.remove(segment)\n",
    "\n",
    "def find_intersections(segments):\n",
    "    events = sort_events(segments)\n",
    "    active_segments = SortedList(key=lambda x: x.start[1])\n",
    "    intersections = set()\n",
    "\n",
    "    for event in events:\n",
    "        process_event(event, active_segments, intersections)\n",
    "\n",
    "    return intersections"
   ]
  },
  {
   "cell_type": "code",
   "execution_count": 4,
   "id": "fba5f33b-404c-4aa2-be7c-48de5fa75ae1",
   "metadata": {},
   "outputs": [
    {
     "name": "stdout",
     "output_type": "stream",
     "text": [
      "Пересекаются отрезки: (3, 3)->(6, 6) и (3, 6)->(6, 3)\n",
      "Пересекаются отрезки: (2, 2)->(5, 5) и (3, 3)->(6, 6)\n",
      "Пересекаются отрезки: (3, 3)->(6, 6) и (2, 5)->(5, 2)\n",
      "Пересекаются отрезки: (1, 3)->(5, -5) и (1, 1)->(4, 4)\n",
      "Пересекаются отрезки: (2, 2)->(5, 5) и (1, 1)->(4, 4)\n"
     ]
    }
   ],
   "source": [
    "# Пример использования\n",
    "segments = [\n",
    "    Segment((1, 1), (4, 4)),\n",
    "    Segment((2, 2), (5, 5)),\n",
    "    Segment((3, 3), (6, 6)),\n",
    "    Segment((1, 4), (4, 1)),\n",
    "    Segment((2, 5), (5, 2)),\n",
    "    Segment((3, 6), (6, 3)),\n",
    "    Segment((1, 3), (5, -5))\n",
    "]\n",
    "\n",
    "intersections = find_intersections(segments)\n",
    "for intersection in intersections:\n",
    "    print(f\"Пересекаются отрезки: {intersection[0].start}->{intersection[0].end} и {intersection[1].start}->{intersection[1].end}\")"
   ]
  },
  {
   "cell_type": "code",
   "execution_count": null,
   "id": "32da4360-cb4e-4a58-9deb-e406ee7cbc5c",
   "metadata": {},
   "outputs": [],
   "source": []
  },
  {
   "cell_type": "code",
   "execution_count": null,
   "id": "72964b9c-9b7d-4b58-b551-43a5f5fb5791",
   "metadata": {},
   "outputs": [],
   "source": []
  },
  {
   "cell_type": "code",
   "execution_count": null,
   "id": "0b3878eb-a090-4d4b-8dad-f0ac6b1c86f6",
   "metadata": {},
   "outputs": [],
   "source": []
  }
 ],
 "metadata": {
  "kernelspec": {
   "display_name": "Python 3 (ipykernel)",
   "language": "python",
   "name": "python3"
  },
  "language_info": {
   "codemirror_mode": {
    "name": "ipython",
    "version": 3
   },
   "file_extension": ".py",
   "mimetype": "text/x-python",
   "name": "python",
   "nbconvert_exporter": "python",
   "pygments_lexer": "ipython3",
   "version": "3.12.0"
  }
 },
 "nbformat": 4,
 "nbformat_minor": 5
}
