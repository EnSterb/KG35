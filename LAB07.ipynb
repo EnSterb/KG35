{
 "cells": [
  {
   "cell_type": "code",
   "execution_count": 1,
   "id": "98cb9c8f-f965-4191-823b-c6806b317fe5",
   "metadata": {},
   "outputs": [],
   "source": [
    "import sympy as sp\n",
    "import numpy as np\n",
    "import matplotlib.pyplot as plt\n",
    "\n",
    "import math\n",
    "import time\n",
    "import random"
   ]
  },
  {
   "cell_type": "markdown",
   "id": "b241db84-6e7d-4abb-b21f-ce13c7c8670d",
   "metadata": {},
   "source": [
    "# 1\n",
    "\n",
    "МОДЕЛИ КВАДРАТИЧНЫХ КРИВЫХ И ПОВЕРХНОСТЕЙ"
   ]
  },
  {
   "cell_type": "markdown",
   "id": "f1f1b622-bb9c-495b-aa46-3430df9983d2",
   "metadata": {},
   "source": [
    "## 1.1"
   ]
  },
  {
   "cell_type": "code",
   "execution_count": 2,
   "id": "5a05473a-6e42-48cb-b037-1f7b5c579f05",
   "metadata": {},
   "outputs": [],
   "source": [
    "import sympy as sp\n",
    "\n",
    "# Определяем символы\n",
    "x, y, z = sp.symbols('x y z')\n",
    "A, B, C, D, E, F, G, H, I, J = sp.symbols('A B C D E F G H I J')\n",
    "\n",
    "model_curve = A * x**2 + 2*B * x * y + C * y**2 + 2* D * x + 2*E * y + F\n",
    "model_surface = A * x**2 + B * y**2 + C * z**2 + D * x * y + E * x * z + F * y * z + G * x + H * y + I * z + J"
   ]
  },
  {
   "cell_type": "code",
   "execution_count": 3,
   "id": "85a95b73-4662-49d4-ae07-fb07ecaed33e",
   "metadata": {},
   "outputs": [
    {
     "name": "stdout",
     "output_type": "stream",
     "text": [
      "Кривая:\n"
     ]
    },
    {
     "data": {
      "text/latex": [
       "$\\displaystyle A x^{2} + 2 B x y + C y^{2} + 2 D x + 2 E y + F$"
      ],
      "text/plain": [
       "A*x**2 + 2*B*x*y + C*y**2 + 2*D*x + 2*E*y + F"
      ]
     },
     "execution_count": 3,
     "metadata": {},
     "output_type": "execute_result"
    }
   ],
   "source": [
    "print('Кривая:')\n",
    "model_curve"
   ]
  },
  {
   "cell_type": "code",
   "execution_count": 4,
   "id": "bc9276b3-f1d0-4e88-af1e-9480380b7f24",
   "metadata": {},
   "outputs": [
    {
     "name": "stdout",
     "output_type": "stream",
     "text": [
      "Плоскость:\n"
     ]
    },
    {
     "data": {
      "text/latex": [
       "$\\displaystyle A x^{2} + B y^{2} + C z^{2} + D x y + E x z + F y z + G x + H y + I z + J$"
      ],
      "text/plain": [
       "A*x**2 + B*y**2 + C*z**2 + D*x*y + E*x*z + F*y*z + G*x + H*y + I*z + J"
      ]
     },
     "execution_count": 4,
     "metadata": {},
     "output_type": "execute_result"
    }
   ],
   "source": [
    "print('Плоскость:')\n",
    "model_surface"
   ]
  },
  {
   "cell_type": "code",
   "execution_count": 5,
   "id": "12511bee-f411-4d32-bf02-691a698c1a66",
   "metadata": {},
   "outputs": [],
   "source": [
    "def get_type_of_kurve(coefs):\n",
    "    A, B, C, D, E, F = coefs\n",
    "    d = np.linalg.det(np.array([[A, B, D], [B, C, E], [D, E, F]]))\n",
    "    sig = np.linalg.det(np.array([[A, B], [B, C]]))\n",
    "    S = A + C\n",
    "    K = np.linalg.det(np.array([[A, D], [D, F]])) + np.linalg.det(np.array([[C, E], [E, F]]))\n",
    "    \n",
    "    if sig > 0:\n",
    "        if S*d < 0:\n",
    "            return 'вещественный эллипс'\n",
    "        elif S*d > 0:\n",
    "            return 'мнимый эллипс'\n",
    "        elif d == 0:\n",
    "            return 'гипербола'\n",
    "    elif sig < 0:\n",
    "        if d != 0:\n",
    "            return 'пара вещественных пересекающихся прямых'\n",
    "        elif d == 0:\n",
    "            return ' пара комплексных пересекающихся прямых'\n",
    "    elif sig == 0:\n",
    "        if d != 0:\n",
    "            return 'парабола'\n",
    "        elif d == 0:\n",
    "            if K < 0:\n",
    "                return 'пара вещественных параллельных прямых'\n",
    "            elif K > 0:\n",
    "                return 'пара мнимых параллельных прямых'\n",
    "            elif K == 0:\n",
    "                return 'пара совпавших прямых'\n",
    "    raise 'Где-то ошибка'"
   ]
  },
  {
   "cell_type": "markdown",
   "id": "1553681b-b00d-4101-b1b1-9d3f7d401275",
   "metadata": {},
   "source": [
    "<img src='КВП.png'></img>"
   ]
  },
  {
   "cell_type": "code",
   "execution_count": 6,
   "id": "b6cd1a43-5f00-4468-b9d1-cbd471739854",
   "metadata": {},
   "outputs": [
    {
     "data": {
      "text/latex": [
       "$\\displaystyle A x^{2} + 2 B x y + C y^{2} + 2 D x + 2 E y + F$"
      ],
      "text/plain": [
       "A*x**2 + 2*B*x*y + C*y**2 + 2*D*x + 2*E*y + F"
      ]
     },
     "execution_count": 6,
     "metadata": {},
     "output_type": "execute_result"
    }
   ],
   "source": [
    "model_curve"
   ]
  },
  {
   "cell_type": "code",
   "execution_count": 7,
   "id": "4b4cfa4b-ddce-4e68-a3e7-8ab8161df989",
   "metadata": {},
   "outputs": [],
   "source": [
    "def coeffs_curve_to_dict(coeffs):\n",
    "    # Сопоставление коэффициентов с их символами\n",
    "    coeff_dict = {\n",
    "        'A': coeffs[0],\n",
    "        'B': coeffs[1],\n",
    "        'C': coeffs[2],\n",
    "        'D': coeffs[3],\n",
    "        'E': coeffs[4],\n",
    "        'F': coeffs[5]\n",
    "    }\n",
    "    return coeff_dict\n"
   ]
  },
  {
   "cell_type": "code",
   "execution_count": 8,
   "id": "a570193d-cc67-45e0-a0ff-b07e7da30522",
   "metadata": {},
   "outputs": [],
   "source": [
    "def coeffs_surface_to_dict(coeffs):\n",
    "    # Сопоставление коэффициентов с их символами\n",
    "    coeff_dict = {\n",
    "        'A': coeffs[0],\n",
    "        'B': coeffs[1],\n",
    "        'C': coeffs[2],\n",
    "        'D': coeffs[3],\n",
    "        'E': coeffs[4],\n",
    "        'F': coeffs[5],\n",
    "        'G': coeffs[6],\n",
    "        'H': coeffs[7],\n",
    "        'I': coeffs[8],\n",
    "        'J': coeffs[9]\n",
    "    }\n",
    "    return coeff_dict\n"
   ]
  },
  {
   "cell_type": "code",
   "execution_count": 9,
   "id": "af4ad663-85e7-407e-80d9-0c7cd1022a42",
   "metadata": {},
   "outputs": [
    {
     "name": "stdout",
     "output_type": "stream",
     "text": [
      "x**2 + y**2 - 1\n",
      "вещественный эллипс\n"
     ]
    }
   ],
   "source": [
    "coefs = [1, 0, 1, 0, 0, -1]\n",
    "specific_curve = model_curve.subs(coeffs_curve_to_dict(coefs))\n",
    "print(specific_curve)\n",
    "print(get_type_of_kurve(coefs))  # Вывод: 'вещественный эллипс'"
   ]
  },
  {
   "cell_type": "markdown",
   "id": "0cacf6c5-fc0f-47ef-9294-b299f843aac7",
   "metadata": {},
   "source": [
    "## 1.4\n",
    "\n",
    "Напишите функцию, тестирующую взаимное расположение квадратичной\n",
    "поверхности и прямой линии, проходящей через точки А и В. В случаях\n",
    "наличия общих точек функция должна вычислять их координаты. "
   ]
  },
  {
   "cell_type": "markdown",
   "id": "f4dc26c2-966a-4a59-8119-e35f95d78926",
   "metadata": {},
   "source": [
    "<img src='FOR_CURVE_AND_SURFACE.PNG'>"
   ]
  },
  {
   "cell_type": "code",
   "execution_count": 10,
   "id": "e7e11745-15d6-4a9e-b02b-9b912bb96310",
   "metadata": {},
   "outputs": [],
   "source": [
    "def quadratic_surface_intersection(A_coords, B_coords, coeffs):\n",
    "    A, B, C, D, E, F, G, H, I, J = coeffs\n",
    "    x1, y1, z1 = A_coords\n",
    "    x2, y2, z2 = B_coords\n",
    "\n",
    "    # Коэффициенты для квадратного уравнения относительно t\n",
    "    a = A * (x2 - x1)**2 + B * (y2 - y1)**2 + C * (z2 - z1)**2 + D * (x2 - x1)*(y2 - y1) + E * (x2 - x1)*(z2 - z1) + F * (y2 - y1)*(z2 - z1)\n",
    "    b = 2 * A * x1 * (x2 - x1) + 2 * B * y1 * (y2 - y1) + 2 * C * z1 * (z2 - z1) + D * (x1*(y2 - y1) + y1*(x2 - x1)) + E * (x1*(z2 - z1) + z1*(x2 - x1)) + F * (y1*(z2 - z1) + z1*(y2 - y1)) + G * (x2 - x1) + H * (y2 - y1) + I * (z2 - z1)\n",
    "    c = A * x1**2 + B * y1**2 + C * z1**2 + D * x1 * y1 + E * x1 * z1 + F * y1 * z1 + G * x1 + H * y1 + I * z1 + J\n",
    "\n",
    "    # Решение квадратного уравнения\n",
    "    discriminant = b**2 - 4 * a * c\n",
    "    if discriminant < 0:\n",
    "        return \"Прямая не пересекает поверхность\"\n",
    "    elif discriminant == 0:\n",
    "        t = -b / (2 * a)\n",
    "        intersection_point = (x1 + (x2 - x1) * t, y1 + (y2 - y1) * t, z1 + (z2 - z1) * t)\n",
    "        return [intersection_point]\n",
    "    else:\n",
    "        t1 = (-b + np.sqrt(discriminant)) / (2 * a)\n",
    "        t2 = (-b - np.sqrt(discriminant)) / (2 * a)\n",
    "        intersection_points = [\n",
    "            (x1 + (x2 - x1) * t1, y1 + (y2 - y1) * t1, z1 + (z2 - z1) * t1),\n",
    "            (x1 + (x2 - x1) * t2, y1 + (y2 - y1) * t2, z1 + (z2 - z1) * t2)\n",
    "        ]\n",
    "        return intersection_points"
   ]
  },
  {
   "cell_type": "code",
   "execution_count": 11,
   "id": "f8a2ac8d-3985-441e-96da-ea304fe83260",
   "metadata": {},
   "outputs": [
    {
     "data": {
      "text/latex": [
       "$\\displaystyle x^{2} + y^{2} + z^{2} - 1$"
      ],
      "text/plain": [
       "x**2 + y**2 + z**2 - 1"
      ]
     },
     "execution_count": 11,
     "metadata": {},
     "output_type": "execute_result"
    }
   ],
   "source": [
    "coeffs = [1, 1, 1, 0, 0, 0, 0, 0, 0, -1]\n",
    "specific_curve1 = model_surface.subs(coeffs_surface_to_dict(coeffs))\n",
    "specific_curve1"
   ]
  },
  {
   "cell_type": "code",
   "execution_count": 12,
   "id": "6b2017e8-9f31-4dd6-9359-527ed784e43c",
   "metadata": {},
   "outputs": [
    {
     "name": "stdout",
     "output_type": "stream",
     "text": [
      "Пример 1: [(0.0, 1.0, 0.0), (1.0, 0.0, 0.0)]\n",
      "Пример 2: Прямая не пересекает поверхность\n",
      "Пример 3: [(1.0, 0.0, 0.0)]\n"
     ]
    }
   ],
   "source": [
    "# Пример 1: Пересечение в двух точках\n",
    "A_coords = (1, 0, 0)\n",
    "B_coords = (0, 1, 0)\n",
    "coeffs = [1, 1, 1, 0, 0, 0, 0, 0, 0, -1]\n",
    "result = quadratic_surface_intersection(A_coords, B_coords, coeffs)\n",
    "print(\"Пример 1:\", result)\n",
    "\n",
    "# Пример 2: Нет пересечения\n",
    "A_coords = (2, 0, 2)\n",
    "B_coords = (3, 0, 2)\n",
    "coeffs = [1, 1, 1, 0, 0, 0, 0, 0, 0, -1]\n",
    "result = quadratic_surface_intersection(A_coords, B_coords, coeffs)\n",
    "print(\"Пример 2:\", result)\n",
    "\n",
    "# Пример 3: Касание в одной точке\n",
    "A_coords = (1, 0, -1)\n",
    "B_coords = (1, 0, 1)\n",
    "coeffs = [1, 1, 1, 0, 0, 0, 0, 0, 0, -1]\n",
    "result = quadratic_surface_intersection(A_coords, B_coords, coeffs)\n",
    "print(\"Пример 3:\", result)"
   ]
  },
  {
   "cell_type": "code",
   "execution_count": null,
   "id": "5d70ba7f-c52d-4012-aca1-47d4c24ddfdc",
   "metadata": {},
   "outputs": [],
   "source": []
  },
  {
   "cell_type": "markdown",
   "id": "0cd0673a-d352-40ae-ab0a-f26cb10411aa",
   "metadata": {},
   "source": [
    "## 1.5\n",
    "\n",
    "Напишите функцию, вычисляющую линию пересечения квадратичной\n",
    "поверхности и плоскости."
   ]
  },
  {
   "cell_type": "code",
   "execution_count": 13,
   "id": "2e9e38dd-08bb-4398-9da9-da04a205360e",
   "metadata": {},
   "outputs": [],
   "source": [
    "def quadratic_surface_plane_intersection(surface_coeffs, plane_points):\n",
    "    \"\"\"\n",
    "    Вычисляет линию пересечения квадратичной поверхности и плоскости.\n",
    "\n",
    "    Параметры:\n",
    "        surface_coeffs (list): Коэффициенты квадратичной поверхности [A, B, C, D, E, F, G, H, I, J].\n",
    "        plane_points (list): Три точки на плоскости [P1, P2, P3], где Pi = [x_i, y_i, z_i].\n",
    "\n",
    "    Возвращает:\n",
    "        sympy.Expr: Уравнение линии пересечения, зависящее от s и t.\n",
    "    \"\"\"\n",
    "    # Коэффициенты квадратичной поверхности\n",
    "    A, B, C, D, E, F, G, H, I, J = surface_coeffs\n",
    "\n",
    "    # Точки на плоскости\n",
    "    P1, P2, P3 = plane_points\n",
    "\n",
    "    # Определяем символы\n",
    "    s, t = sp.symbols('s t')\n",
    "\n",
    "    # Параметризация плоскости\n",
    "    x = P1[0] + s * (P2[0] - P1[0]) + t * (P3[0] - P1[0])\n",
    "    y = P1[1] + s * (P2[1] - P1[1]) + t * (P3[1] - P1[1])\n",
    "    z = P1[2] + s * (P2[2] - P1[2]) + t * (P3[2] - P1[2])\n",
    "\n",
    "    # Уравнение квадратичной поверхности\n",
    "    surface_eq = (\n",
    "        A * x**2 + B * y**2 + C * z**2 +\n",
    "        D * x * y + E * x * z + F * y * z +\n",
    "        G * x + H * y + I * z + J\n",
    "    )\n",
    "\n",
    "    # Подстановка параметризации в уравнение поверхности\n",
    "    intersection_eq = surface_eq.subs({sp.symbols('x'): x, sp.symbols('y'): y, sp.symbols('z'): z})\n",
    "\n",
    "    # Упрощаем выражение\n",
    "    intersection_eq = sp.simplify(intersection_eq)\n",
    "\n",
    "    return intersection_eq"
   ]
  },
  {
   "cell_type": "code",
   "execution_count": 14,
   "id": "e51d6055-2b10-4db5-888b-ccd6a85a2a2e",
   "metadata": {},
   "outputs": [
    {
     "name": "stdout",
     "output_type": "stream",
     "text": [
      "Уравнение линии пересечения:\n",
      "s**2 + t**2 + (s + t - 1)**2 - 1\n"
     ]
    }
   ],
   "source": [
    "surface_coeffs = [1, 1, 1, 0, 0, 0, 0, 0, 0, -1]  # x^2 + y^2 + z^2 = 1\n",
    "plane_points = [\n",
    "    [1, 0, 0],  # P1\n",
    "    [0, 1, 0],  # P2\n",
    "    [0, 0, 1]   # P3\n",
    "]\n",
    "\n",
    "result = quadratic_surface_plane_intersection(surface_coeffs, plane_points)\n",
    "print(\"Уравнение линии пересечения:\")\n",
    "print(result)"
   ]
  },
  {
   "cell_type": "markdown",
   "id": "8a44fffb-fb35-4d82-97dc-8e907b9f4432",
   "metadata": {},
   "source": [
    "s = [s1, s2, s3], t = [t1, t2, t3]"
   ]
  },
  {
   "cell_type": "markdown",
   "id": "d2cbd29e-92ef-4191-ab33-42fd9c1faf9c",
   "metadata": {},
   "source": [
    "## 1.8\n",
    "\n",
    "Заданы сфера и конус, их взаимное расположение указано на рис.1.\n",
    "Вычислите линию пересечения заданных фигур. Отобразите сферу, конус и\n",
    "вычисленную кривую в одной графической области."
   ]
  },
  {
   "cell_type": "code",
   "execution_count": 15,
   "id": "c6e88a79-9ddf-4593-99e2-72002d020339",
   "metadata": {},
   "outputs": [],
   "source": [
    "def find_quadratic_intersection(coeffs1, coeffs2):\n",
    "    \"\"\"\n",
    "    Находит пересечение двух квадратичных поверхностей, заданных коэффициентами в виде списков.\n",
    "\n",
    "    Аргументы:\n",
    "        coeffs1 (list): Список коэффициентов для первой поверхности вида:\n",
    "            [a11, a22, a33, a12, a13, a23, b1, b2, b3, c1]\n",
    "        coeffs2 (list): Список коэффициентов для второй поверхности (аналогично coeffs1).\n",
    "\n",
    "    Возвращает:\n",
    "        sympy.Eq: Уравнение кривой пересечения.\n",
    "    \"\"\"\n",
    "    # Определяем переменные\n",
    "    x, y, z = sp.symbols('x y z')\n",
    "\n",
    "    # Формируем уравнения поверхностей\n",
    "    eq1 = sp.Eq(\n",
    "        coeffs1[0] * x**2 + coeffs1[1] * y**2 + coeffs1[2] * z**2 +\n",
    "        2 * coeffs1[3] * x * y + 2 * coeffs1[4] * x * z + 2 * coeffs1[5] * y * z +\n",
    "        2 * coeffs1[6] * x + 2 * coeffs1[7] * y + 2 * coeffs1[8] * z + coeffs1[9], 0\n",
    "    )\n",
    "\n",
    "    eq2 = sp.Eq(\n",
    "        coeffs2[0] * x**2 + coeffs2[1] * y**2 + coeffs2[2] * z**2 +\n",
    "        2 * coeffs2[3] * x * y + 2 * coeffs2[4] * x * z + 2 * coeffs2[5] * y * z +\n",
    "        2 * coeffs2[6] * x + 2 * coeffs2[7] * y + 2 * coeffs2[8] * z + coeffs2[9], 0\n",
    "    )\n",
    "\n",
    "    # Вычитаем одно уравнение из другого, чтобы исключить квадратичные члены\n",
    "    # linear_eq = sp.expand(eq1 - eq2)\n",
    "\n",
    "    # Решаем линейное уравнение относительно одной переменной (например, z)\n",
    "    try:\n",
    "        solution = sp.solve((eq1, eq2), z)\n",
    "    except NotImplementedError:\n",
    "        return \"Решение не найдено или система слишком сложна для аналитического решения.\"\n",
    "\n",
    "    # Если решение найдено, подставляем его в одно из исходных уравнений\n",
    "    if len(solution) > 0:\n",
    "        z_expr = solution[0]  # Берем первое решение\n",
    "        intersection_curve = sp.Eq(eq1.subs(z, z_expr), 0)\n",
    "        return intersection_curve\n",
    "    else:\n",
    "        return \"Пересечение отсутствует.\"\n"
   ]
  },
  {
   "cell_type": "code",
   "execution_count": 16,
   "id": "269a4d34-940e-47ec-80a0-29b3947bcd18",
   "metadata": {},
   "outputs": [
    {
     "name": "stdout",
     "output_type": "stream",
     "text": [
      "Уравнение кривой пересечения: Пересечение отсутствует.\n"
     ]
    }
   ],
   "source": [
    "\n",
    "# Пример использования\n",
    "coeffs1 = [2, 1, -3, 0, 0, 0, 0, 0, 0, 0] \n",
    "coeffs2 = [1, 0.5, 1, 0, 0, 0, 0, 0, 0, -1]  \n",
    "\n",
    "result = find_quadratic_intersection(coeffs1, coeffs2)\n",
    "print(\"Уравнение кривой пересечения:\", result)"
   ]
  },
  {
   "cell_type": "code",
   "execution_count": 17,
   "id": "bb9e86ed-b325-4b51-babf-c9a566d9db18",
   "metadata": {},
   "outputs": [
    {
     "data": {
      "text/plain": [
       "'Пересечение отсутствует.'"
      ]
     },
     "execution_count": 17,
     "metadata": {},
     "output_type": "execute_result"
    }
   ],
   "source": [
    "result"
   ]
  },
  {
   "cell_type": "markdown",
   "id": "9db9b341-86f7-4a35-bbff-ca68df98533a",
   "metadata": {},
   "source": [
    "## 2.2\n",
    "\n",
    "Циклическая кривая – эпициклоида – траектория движения неподвижной\n",
    "точки окружности радиуса r при ее качении без скольжения снаружи\n",
    "окружности радиуса r0."
   ]
  },
  {
   "cell_type": "markdown",
   "id": "051ccc9d-da53-4d45-b098-139ca9780951",
   "metadata": {},
   "source": [
    "в файле 715.py"
   ]
  },
  {
   "cell_type": "markdown",
   "id": "8e93b0c8-be25-4a41-83dd-d52e494aa570",
   "metadata": {},
   "source": [
    "## 3.3"
   ]
  },
  {
   "cell_type": "markdown",
   "id": "5edf0523-fb23-4531-9b92-73d90887f424",
   "metadata": {},
   "source": [
    "график в 733.py"
   ]
  },
  {
   "cell_type": "markdown",
   "id": "0dd30cfc-8eae-4aca-a56c-ea6527c4d808",
   "metadata": {},
   "source": [
    "<img src='733.png'>"
   ]
  },
  {
   "cell_type": "code",
   "execution_count": null,
   "id": "25c4db6a-9f59-4ffb-8681-2b704e5f1f3f",
   "metadata": {},
   "outputs": [],
   "source": []
  }
 ],
 "metadata": {
  "kernelspec": {
   "display_name": "Python 3 (ipykernel)",
   "language": "python",
   "name": "python3"
  },
  "language_info": {
   "codemirror_mode": {
    "name": "ipython",
    "version": 3
   },
   "file_extension": ".py",
   "mimetype": "text/x-python",
   "name": "python",
   "nbconvert_exporter": "python",
   "pygments_lexer": "ipython3",
   "version": "3.12.0"
  }
 },
 "nbformat": 4,
 "nbformat_minor": 5
}
